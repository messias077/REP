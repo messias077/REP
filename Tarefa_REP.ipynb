{
  "nbformat": 4,
  "nbformat_minor": 0,
  "metadata": {
    "colab": {
      "name": "Tarefa_REP",
      "provenance": [],
      "collapsed_sections": []
    },
    "kernelspec": {
      "name": "python3",
      "display_name": "Python 3"
    }
  },
  "cells": [
    {
      "cell_type": "code",
      "metadata": {
        "id": "bpwfsarVzWFg"
      },
      "source": [
        "\"\"\"\n",
        "Exemplo de regressão\n",
        "\"\"\"\n",
        "import matplotlib.pyplot as plt\n",
        "from sklearn.datasets import load_boston\n",
        "\n",
        "X, y = load_boston(return_X_y=True)\n",
        "plt.scatter(X[:,12], y)\n",
        "plt.plot()"
      ],
      "execution_count": null,
      "outputs": []
    },
    {
      "cell_type": "code",
      "metadata": {
        "id": "niit4vZ139AR"
      },
      "source": [
        "\"\"\"\n",
        "Exemplo de classificação\n",
        "\"\"\"\n",
        "import matplotlib.pyplot as plt\n",
        "from sklearn.datasets import load_breast_cancer\n",
        "\n",
        "X, y = load_breast_cancer(return_X_y=True)\n",
        "plt.plot(X[:,20][y==1], X[:,27][y==1], \"gs\")\n",
        "plt.plot(X[:,20][y==0], X[:,27][y==0], \"ro\")\n",
        "plt.plot()"
      ],
      "execution_count": null,
      "outputs": []
    },
    {
      "cell_type": "code",
      "metadata": {
        "id": "fcSK3mWd6Yw9"
      },
      "source": [
        "\"\"\"\n",
        "Exemplo de aprendizado não supervisionado\n",
        "\"\"\"\n",
        "import matplotlib.pyplot as plt\n",
        "from sklearn.datasets import load_iris\n",
        "\n",
        "X, y = load_iris(return_X_y=True)\n",
        "plt.plot(X[:,0], X[:,1], \"o\")\n",
        "plt.plot()"
      ],
      "execution_count": null,
      "outputs": []
    }
  ]
}