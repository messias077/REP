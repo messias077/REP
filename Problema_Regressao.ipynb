{
  "nbformat": 4,
  "nbformat_minor": 0,
  "metadata": {
    "colab": {
      "name": "Problema_Regressao.ipynb",
      "provenance": [],
      "authorship_tag": "ABX9TyMcci7qJbnmdMIjeMkQ4vkZ",
      "include_colab_link": true
    },
    "kernelspec": {
      "name": "python3",
      "display_name": "Python 3"
    }
  },
  "cells": [
    {
      "cell_type": "markdown",
      "metadata": {
        "id": "view-in-github",
        "colab_type": "text"
      },
      "source": [
        "<a href=\"https://colab.research.google.com/github/messias077/REP/blob/main/Problema_Regressao.ipynb\" target=\"_parent\"><img src=\"https://colab.research.google.com/assets/colab-badge.svg\" alt=\"Open In Colab\"/></a>"
      ]
    },
    {
      "cell_type": "code",
      "metadata": {
        "id": "rRLUKjh43pxX",
        "outputId": "00f5f32a-f6e0-4f49-d85f-647dc9f7ba86",
        "colab": {
          "base_uri": "https://localhost:8080/"
        }
      },
      "source": [
        "import pandas as pd\n",
        "from sklearn.model_selection import train_test_split\n",
        "from sklearn.linear_model import LinearRegression\n",
        "from sklearn.metrics import mean_squared_error\n",
        "\n",
        "# Carregando os dados\n",
        "df1 = pd.read_csv('/content/sample_data/wine.csv')\n",
        "\n",
        "# Separando em features e target\n",
        "X = df1.iloc[:, 1:].values\n",
        "y = df1.iloc[:, 0].values\n",
        "\n",
        "modelo = LinearRegression()\n",
        "modelo.fit(X, y)\n",
        "ypred = modelo.predict(X)\n",
        "\n",
        "print(f'MSE: {mean_squared_error(y, ypred)}')\n"
      ],
      "execution_count": 90,
      "outputs": [
        {
          "output_type": "stream",
          "text": [
            "MSE: 0.059677387465844466\n"
          ],
          "name": "stdout"
        }
      ]
    }
  ]
}