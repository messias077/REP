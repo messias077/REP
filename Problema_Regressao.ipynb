{
  "nbformat": 4,
  "nbformat_minor": 0,
  "metadata": {
    "colab": {
      "name": "Problema_Regressao.ipynb",
      "provenance": [],
      "collapsed_sections": [],
      "authorship_tag": "ABX9TyMCYCp9CIw+AH/xvCHj90r3",
      "include_colab_link": true
    },
    "kernelspec": {
      "name": "python3",
      "display_name": "Python 3"
    }
  },
  "cells": [
    {
      "cell_type": "markdown",
      "metadata": {
        "id": "view-in-github",
        "colab_type": "text"
      },
      "source": [
        "<a href=\"https://colab.research.google.com/github/messias077/REP/blob/main/Problema_Regressao.ipynb\" target=\"_parent\"><img src=\"https://colab.research.google.com/assets/colab-badge.svg\" alt=\"Open In Colab\"/></a>"
      ]
    },
    {
      "cell_type": "code",
      "metadata": {
        "id": "NvYCjKFDBOj6",
        "colab": {
          "base_uri": "https://localhost:8080/",
          "height": 348
        },
        "outputId": "c35ab890-3759-4077-d959-ad545a93804e"
      },
      "source": [
        "\"\"\" Resolvendo um problema de regressão \"\"\"\n",
        "\n",
        "import pandas as pd\n",
        "import matplotlib.pylab as plt\n",
        "import numpy as np\n",
        "from sklearn.linear_model import LinearRegression\n",
        "from sklearn.metrics import mean_squared_error\n",
        "\n",
        "# Carregando os dados\n",
        "# Obtida em: https://www.kaggle.com/kumarajarshi/life-expectancy-who\n",
        "# Obs.: Possui valores 'NaN' tem que preencher com zeros\n",
        "df = pd.read_csv('/content/sample_data/Life Expectancy Data.csv')\n",
        "\n",
        "# Separando em features e target\n",
        "X = df.iloc[:, 4:].values # Retira as colunas 'Country', 'Year' 'Status' e 'Life expectancy'\n",
        "y = df.iloc[:, 3].values # Pega somente a coluna 'Life expectancy'\n",
        "\n",
        "\n",
        "def calcular_erros_vs_intercepts(intercept, coef):\n",
        "    \"\"\"\n",
        "    Calcula cada variação do intercept e guarda num vetor, depois faz uma predição\n",
        "    para cada valor e calcula o respectivo 'mean_squared_error'\n",
        "    \"\"\"\n",
        "    # Instancia o modelo e seta os coeficientes\n",
        "    modelo = LinearRegression()\n",
        "    modelo.coef_ = coef\n",
        "\n",
        "    # Prepara para variar o intercept\n",
        "    delta = 2\n",
        "    qtd_amostras = 50\n",
        "    intercepts = np.linspace(intercept - delta, intercept + delta, qtd_amostras)\n",
        "\n",
        "    # Gera o vetor para guardar os erros calculados\n",
        "    erros = np.empty(intercepts.shape)\n",
        "\n",
        "    # Faz as predições e calcula os MSEs\n",
        "    for i in range(len(intercepts)):\n",
        "        modelo.intercept_ = intercepts[i]\n",
        "        ypred = modelo.predict(X)\n",
        "        erros[i] = mean_squared_error(y, ypred)\n",
        "\n",
        "    return intercepts, erros\n",
        "    \n",
        "\n",
        "# Treinando e predizendo para obter o valor do Intercept\n",
        "modelo = LinearRegression()\n",
        "modelo.fit(X, y)\n",
        "ypred = modelo.predict(X)\n",
        "\n",
        "print('\\nIntercept.....:', modelo.intercept_)\n",
        "print('Erro inicial..:', mean_squared_error(y, ypred), '\\n')\n",
        "\n",
        "intercepts, erros = calcular_erros_vs_intercepts(modelo.intercept_, modelo.coef_)\n",
        "\n",
        "plt.ylabel(\"Erro\")\n",
        "plt.xlabel(\"Intercept\")\n",
        "plt.plot(intercepts, erros)\n",
        "plt.show()\n"
      ],
      "execution_count": 206,
      "outputs": [
        {
          "output_type": "stream",
          "text": [
            "\n",
            "Intercept.....: 58.54308577839414\n",
            "Erro inicial..: 36.19501862145697 \n",
            "\n"
          ],
          "name": "stdout"
        },
        {
          "output_type": "display_data",
          "data": {
            "image/png": "[encoded data removed]",
            "text/plain": [
              "<Figure size 432x288 with 1 Axes>"
            ]
          },
          "metadata": {
            "tags": [],
            "needs_background": "light"
          }
        }
      ]
    }
  ]
}