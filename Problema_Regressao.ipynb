{
  "nbformat": 4,
  "nbformat_minor": 0,
  "metadata": {
    "colab": {
      "name": "Problema_Regressao.ipynb",
      "provenance": [],
      "authorship_tag": "ABX9TyPAgJHrTZQSfAhFP45lLFgZ",
      "include_colab_link": true
    },
    "kernelspec": {
      "name": "python3",
      "display_name": "Python 3"
    }
  },
  "cells": [
    {
      "cell_type": "markdown",
      "metadata": {
        "id": "view-in-github",
        "colab_type": "text"
      },
      "source": [
        "<a href=\"https://colab.research.google.com/github/messias077/REP/blob/main/Problema_Regressao.ipynb\" target=\"_parent\"><img src=\"https://colab.research.google.com/assets/colab-badge.svg\" alt=\"Open In Colab\"/></a>"
      ]
    },
    {
      "cell_type": "code",
      "metadata": {
        "id": "rRLUKjh43pxX",
        "outputId": "9d4f929f-31d3-43a2-97da-99692044464c",
        "colab": {
          "base_uri": "https://localhost:8080/"
        }
      },
      "source": [
        "import pandas as pd\n",
        "from sklearn.model_selection import train_test_split\n",
        "from sklearn.linear_model import LinearRegression\n",
        "from sklearn.metrics import mean_squared_error\n",
        "\n",
        "# Carregando os dados\n",
        "df1 = pd.read_csv('/content/sample_data/wine.csv')\n",
        "\n",
        "# Separando em features e target\n",
        "X = df1.iloc[:, 1:].values\n",
        "y = df1.iloc[:, 0].values\n",
        "\n",
        "# Dividindo os dados em treinamento e teste\n",
        "X_treinamento, X_teste, y_treinamento, y_teste = train_test_split(X, y, test_size=0.3, random_state=0)\n",
        "\n",
        "modelo = LinearRegression()\n",
        "modelo.fit(X_treinamento, y_treinamento)\n",
        "ypred = modelo.predict(X_teste)\n",
        "\n",
        "print(f'MSE: {mean_squared_error(y_teste, ypred)}')\n"
      ],
      "execution_count": 89,
      "outputs": [
        {
          "output_type": "stream",
          "text": [
            "MSE: 0.09073938510539972\n"
          ],
          "name": "stdout"
        }
      ]
    }
  ]
}