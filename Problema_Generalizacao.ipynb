{
  "nbformat": 4,
  "nbformat_minor": 0,
  "metadata": {
    "colab": {
      "name": "Problema_Generalizacao.ipynb",
      "provenance": [],
      "collapsed_sections": [],
      "authorship_tag": "ABX9TyOxNzoonI/HqIuu763flPf2",
      "include_colab_link": true
    },
    "kernelspec": {
      "name": "python3",
      "display_name": "Python 3"
    }
  },
  "cells": [
    {
      "cell_type": "markdown",
      "metadata": {
        "id": "view-in-github",
        "colab_type": "text"
      },
      "source": [
        "<a href=\"https://colab.research.google.com/github/messias077/REP/blob/main/Problema_Generalizacao.ipynb\" target=\"_parent\"><img src=\"https://colab.research.google.com/assets/colab-badge.svg\" alt=\"Open In Colab\"/></a>"
      ]
    },
    {
      "cell_type": "markdown",
      "metadata": {
        "id": "oDDXgW88ileo"
      },
      "source": [
        "# **# Avaliando a generalização de algoritmos**"
      ]
    },
    {
      "cell_type": "code",
      "metadata": {
        "id": "fpqJgUAAnKNK"
      },
      "source": [
        "# Importes necessários para os códigos \n",
        "\n",
        "import numpy as np\n",
        "from sklearn.linear_model import LogisticRegression\n",
        "from sklearn.neighbors import KNeighborsClassifier\n",
        "from sklearn.metrics import accuracy_score, make_scorer\n",
        "from sklearn.model_selection import RepeatedKFold, GridSearchCV, cross_validate\n",
        "from sklearn.pipeline import Pipeline\n",
        "from sklearn.preprocessing import StandardScaler\n",
        "from sklearn.datasets import load_wine"
      ],
      "execution_count": 6,
      "outputs": []
    },
    {
      "cell_type": "code",
      "metadata": {
        "id": "_fMrIn-Wi957"
      },
      "source": [
        "# Preparação para facilitar a avaliação dos modelos\n",
        "\n",
        "\"\"\" Classe simplória para auxiliar na hora de rodar os modelos \"\"\"\n",
        "class Modelo():\n",
        "    def __init__(self, modelo, descricao):\n",
        "        self.modelo = modelo\n",
        "        self.descricao = descricao\n",
        "        self.acuracias = []  # Guarda as acurácias de cada rodada do modelo\n",
        "    \n",
        "    # Só para ficar mais simples na hora de chamar esses métodos\n",
        "    def fit(self, X, y):\n",
        "        self.modelo.fit(X, y)\n",
        "    \n",
        "    def predict(self, X):\n",
        "        return self.modelo.predict(X)\n",
        "\n",
        "# Carrega os dados\n",
        "wine = load_wine()\n",
        "X, y = wine.data, wine.target\n",
        "\n",
        "# Guarda os modelos que serão rodados\n",
        "modelos = []\n",
        "\n",
        "# Definição dos modelos\n",
        "\n",
        "# Logistic Regression convencional\n",
        "lr_conv = LogisticRegression(max_iter=10000)\n",
        "modelos.append(Modelo(lr_conv, 'Logistic Regression - Convencional (Sem normalização)'))\n",
        "\n",
        "# Logistic Regression aninhado\n",
        "parametros_lr = {'max_iter': [1000, 3000, 5000]}\n",
        "grid_search_lr = GridSearchCV(LogisticRegression(), parametros_lr, scoring=make_scorer(accuracy_score))\n",
        "lr_anin = Pipeline([\n",
        "    (\"padronizacao\", StandardScaler()),\n",
        "    (\"classificador\", grid_search_lr)\n",
        "])\n",
        "modelos.append(Modelo(lr_anin, 'Logistic Regression - Aninhado (Normalizado)'))\n",
        "\n",
        "# KNN convencional\n",
        "knn_conv = KNeighborsClassifier()\n",
        "modelos.append(Modelo(knn_conv, 'KNeighbors Classifier - Convencional (Sem normalização)'))\n",
        "\n",
        "# KNN Aninhado\n",
        "parametros_knn = {'n_neighbors': [3, 5, 7]}\n",
        "grid_search_knn = GridSearchCV(KNeighborsClassifier(), parametros_knn, scoring=make_scorer(accuracy_score))\n",
        "knn_anin = Pipeline([\n",
        "    (\"padronizacao\", StandardScaler()),\n",
        "    (\"gsknn\", grid_search_knn)\n",
        "])\n",
        "modelos.append(Modelo(knn_anin, 'KNeighbors Classifier - Aninhado (Normalizado)'))"
      ],
      "execution_count": 7,
      "outputs": []
    },
    {
      "cell_type": "code",
      "metadata": {
        "colab": {
          "base_uri": "https://localhost:8080/"
        },
        "id": "nMqM2itYjR0Z",
        "outputId": "c7d17a7d-9ebb-4d0a-cbe1-49d3d5f647ec"
      },
      "source": [
        "# Rodando e avaliando os modelos\n",
        "\n",
        "def rodar_modelos(modelos, X, y):\n",
        "    \"\"\"\n",
        "        Roda as folds diversas vezes (dependendo dos parâmetros passados) para\n",
        "        cada modelo e acumula as acurácias para tirar a média no final das\n",
        "        execuções.\n",
        "    \"\"\"\n",
        "    rkf = RepeatedKFold(n_splits=5, n_repeats=10, random_state=1)\n",
        "\n",
        "    for m in modelos:\n",
        "        scores = cross_validate(m.modelo, X, y, scoring='accuracy', cv=rkf)\n",
        "        m.acuracias = scores['test_score']\n",
        "\n",
        "\n",
        "# Roda os modelos\n",
        "rodar_modelos(modelos, X, y)\n",
        "\n",
        "print(\"\\n  --------------------------------------\")\n",
        "print(\"\\n         **** Resultados ****\")\n",
        "print(\"\\n  --------------------------------------\")\n",
        "\n",
        "for mod in modelos:\n",
        "    print(f\"\\n * {mod.descricao}\")\n",
        "    print(f\"   - Acurácia global..: {np.mean(mod.acuracias)}\")\n",
        "    print(f\"   - Desvio padrão....: {np.std(mod.acuracias)}\\n\")\n"
      ],
      "execution_count": 8,
      "outputs": [
        {
          "output_type": "stream",
          "text": [
            "\n",
            "  --------------------------------------\n",
            "\n",
            "         **** Resultados ****\n",
            "\n",
            "  --------------------------------------\n",
            "\n",
            " * Logistic Regression - Convencional (Sem normalização)\n",
            "   - Acurácia global..: 0.956190476190476\n",
            "   - Desvio padrão....: 0.029284746402898666\n",
            "\n",
            "\n",
            " * Logistic Regression - Aninhado (Normalizado)\n",
            "   - Acurácia global..: 0.9775555555555556\n",
            "   - Desvio padrão....: 0.02304051226299876\n",
            "\n",
            "\n",
            " * KNeighbors Classifier - Convencional (Sem normalização)\n",
            "   - Acurácia global..: 0.6921587301587302\n",
            "   - Desvio padrão....: 0.05015462108947563\n",
            "\n",
            "\n",
            " * KNeighbors Classifier - Aninhado (Normalizado)\n",
            "   - Acurácia global..: 0.9579365079365079\n",
            "   - Desvio padrão....: 0.032199929734872304\n",
            "\n"
          ],
          "name": "stdout"
        }
      ]
    }
  ]
}