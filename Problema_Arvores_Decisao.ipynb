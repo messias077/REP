{
  "nbformat": 4,
  "nbformat_minor": 0,
  "metadata": {
    "colab": {
      "name": "Problema_Arvores_Decisao.ipynb",
      "provenance": [],
      "collapsed_sections": [],
      "authorship_tag": "ABX9TyO1h3s2q7G2mwz0nHNFfgQh",
      "include_colab_link": true
    },
    "kernelspec": {
      "name": "python3",
      "display_name": "Python 3"
    }
  },
  "cells": [
    {
      "cell_type": "markdown",
      "metadata": {
        "id": "view-in-github",
        "colab_type": "text"
      },
      "source": [
        "<a href=\"https://colab.research.google.com/github/messias077/REP/blob/main/Problema_Arvores_Decisao.ipynb\" target=\"_parent\"><img src=\"https://colab.research.google.com/assets/colab-badge.svg\" alt=\"Open In Colab\"/></a>"
      ]
    },
    {
      "cell_type": "markdown",
      "metadata": {
        "id": "5-m3RhyhreE-"
      },
      "source": [
        "# **# Heurística para escolher o melhor valor de cada característica**"
      ]
    },
    {
      "cell_type": "code",
      "metadata": {
        "id": "DEKFWriEuMAn"
      },
      "source": [
        "# Importes necessários para todos os códigos\n",
        "import numpy as np\n",
        "import matplotlib.pyplot as plt\n",
        "import pandas as pd\n",
        "from sklearn.datasets import load_iris, load_wine, load_breast_cancer\n",
        "from sklearn.base import BaseEstimator, ClassifierMixin\n",
        "from sklearn.tree import DecisionTreeClassifier\n",
        "from sklearn.model_selection import cross_validate\n",
        "from sklearn.preprocessing import StandardScaler"
      ],
      "execution_count": 140,
      "outputs": []
    },
    {
      "cell_type": "code",
      "metadata": {
        "id": "J9hOM-gasTbd"
      },
      "source": [
        "# Carregando a base de dados para a primeira comparação\n",
        "\n",
        "iris = load_iris()\n",
        "X, y = iris.data[:,2:], iris.target"
      ],
      "execution_count": 141,
      "outputs": []
    },
    {
      "cell_type": "code",
      "metadata": {
        "id": "_eflRs7xqQ7S"
      },
      "source": [
        "# Implementação feita no vídeo\n",
        "\n",
        "def impureza(y):\n",
        "    labels = list(set(y))\n",
        "    labels.sort()\n",
        "    probabilidades = np.zeros((len(labels),))\n",
        "    for i,k in enumerate(labels):\n",
        "        probabilidades[i] = sum(y==k)/len(y)\n",
        "    result = 1 - sum(probabilidades**2)\n",
        "    return result\n",
        "\n",
        "\n",
        "def impurezaValor(x, y, valor):\n",
        "    maiores = x>valor\n",
        "    impurezaMaiores = impureza(y[maiores])\n",
        "    propMaiores = sum(maiores)/len(y)\n",
        "    impurezaMenores = impureza(y[~maiores])\n",
        "    propMenores = sum(~maiores)/len(y)\n",
        "    impurezaTotal = propMaiores*impurezaMaiores + propMenores*impurezaMenores\n",
        "    return impurezaTotal, impurezaMaiores, impurezaMenores\n",
        "\n",
        "\n",
        "def melhorValor(x, y):\n",
        "    menorImpureza = float('inf')\n",
        "    xmax = np.max(x)\n",
        "    xmin = np.min(x)\n",
        "    while True:\n",
        "        valor = (xmin+xmax)/2\n",
        "        impTotal, impMaiores, impMenores = impurezaValor(x, y, valor)\n",
        "        if impTotal < menorImpureza:\n",
        "            menorImpureza = impTotal\n",
        "            result = valor\n",
        "            if impMaiores == 0 or impMenores == 0:\n",
        "                break\n",
        "            if impMaiores < impMenores:\n",
        "                xmin = valor\n",
        "            else:\n",
        "                xmax = valor\n",
        "        else:\n",
        "            break\n",
        "    return result, menorImpureza\n",
        "\n",
        "\n",
        "def melhorCaracteristica(X, y):\n",
        "    impurezas = []\n",
        "    valores = []\n",
        "    for caracteristica in range(X.shape[1]):\n",
        "        valor, imp = melhorValor(X[:,caracteristica], y)\n",
        "        impurezas.append(imp)\n",
        "        valores.append(valor)\n",
        "    impurezas = np.array(impurezas)\n",
        "    caracteristica = np.argmin(impurezas)\n",
        "    return caracteristica, valores[caracteristica], impurezas[caracteristica]\n",
        "\n",
        "\n",
        "def maisFrequente(y):\n",
        "    return Counter(y.flat).most_common(1)[0][0]\n",
        "\n",
        "\n",
        "class Arvore(BaseEstimator, ClassifierMixin):\n",
        "    def fit(self, X, y):\n",
        "        self.caracteristica, self.valor, self.imp = melhorCaracteristica(X, y)\n",
        "        maiores = X[:,self.caracteristica] > self.valor\n",
        "        if sum(maiores)>0 and sum(~maiores)>0:\n",
        "            self.maiores = Arvore()\n",
        "            self.maiores.fit(X[maiores,:], y[maiores])\n",
        "            self.menores = Arvore()\n",
        "            self.menores.fit(X[~maiores,:], y[~maiores])\n",
        "        else:\n",
        "            self.resposta = maisFrequente(y)\n",
        "    def predict(self, X):\n",
        "        y = np.empty((X.shape[0]))\n",
        "        if hasattr(self, 'resposta'):\n",
        "            y[:] = self.resposta\n",
        "        else:\n",
        "            maiores = X[:, self.caracteristica] > self.valor\n",
        "            y[maiores] = self.maiores.predict(X[maiores,:])\n",
        "            y[~maiores] = self.menores.predict(X[~maiores,:])\n",
        "        return y\n",
        "\n",
        "def plotDecisao(modelo, X, y, titulo):\n",
        "    modelo.fit(X, y)\n",
        "    x0s = np.linspace(np.min(X[:,0])-0.2, np.max(X[:,0])+0.2, 100)\n",
        "    x1s = np.linspace(np.min(X[:,1])-0.2, np.max(X[:,1])+0.2, 100)\n",
        "    x0, x1 = np.meshgrid(x0s, x1s)\n",
        "    Xdec = np.c_[x0.ravel(), x1.ravel()]\n",
        "    ypred = modelo.predict(Xdec)\n",
        "    plt.contourf(x0, x1, ypred.reshape(x0.shape), alpha=0.25)\n",
        "    for k in set(y):\n",
        "        plt.plot(X[:,0][y==k], X[:,1][y==k], 'o', label=f\"{iris.target_names[k]} [{k}]\")\n",
        "    plt.xlabel(f\"X[0]: {iris.feature_names[0]}\")\n",
        "    plt.ylabel(f\"X[1]: {iris.feature_names[1]}\")\n",
        "    plt.title(titulo)\n",
        "    plt.show()"
      ],
      "execution_count": 142,
      "outputs": []
    },
    {
      "cell_type": "code",
      "metadata": {
        "colab": {
          "base_uri": "https://localhost:8080/",
          "height": 857
        },
        "id": "SDAoaM5ptcbT",
        "outputId": "638536cf-caa2-45e4-a947-a618d35d4c6a"
      },
      "source": [
        "# Comparação das regiões de decisão\n",
        "\n",
        "plotDecisao(Arvore(), X, y, \"Regiões de decisão: Árvore do Vídeo\")\n",
        "plotDecisao(DecisionTreeClassifier(), X, y, \"Regiões de decisão: Árvore do Sklearn\")\n",
        "plotDecisao(DecisionTreeClassifier(), X, y, \"Regiões de decisão: Árvore com heurística nova\") # Repeti o Decision Tree do Sklern só para testes, ainda vou criar a árvore com a heurística"
      ],
      "execution_count": 143,
      "outputs": [
        {
          "output_type": "display_data",
          "data": {
            "image/png": "[encoded data removed]",
            "text/plain": [
              "<Figure size 432x288 with 1 Axes>"
            ]
          },
          "metadata": {
            "tags": [],
            "needs_background": "light"
          }
        },
        {
          "output_type": "display_data",
          "data": {
            "image/png": "[encoded data removed]",
            "text/plain": [
              "<Figure size 432x288 with 1 Axes>"
            ]
          },
          "metadata": {
            "tags": [],
            "needs_background": "light"
          }
        },
        {
          "output_type": "display_data",
          "data": {
            "image/png": "[encoded data removed]",
            "text/plain": [
              "<Figure size 432x288 with 1 Axes>"
            ]
          },
          "metadata": {
            "tags": [],
            "needs_background": "light"
          }
        }
      ]
    },
    {
      "cell_type": "code",
      "metadata": {
        "colab": {
          "base_uri": "https://localhost:8080/"
        },
        "id": "J4Xkf6PSzfBK",
        "outputId": "bcef953b-33f6-49ea-cb31-5b24a1961b1b"
      },
      "source": [
        "# Comparação utilizando validação cruzada\n",
        "\n",
        "# Scores árvore do vídeo\n",
        "scores_video = cross_validate(Arvore(), X, y)\n",
        "scores_sklearn = cross_validate(DecisionTreeClassifier(), X, y)\n",
        "\n",
        "\n",
        "print(\"*** Resultados ***\")\n",
        "print(\"------------------\\n\")\n",
        "print(f\"Árvore do vídeo.............: {np.mean(scores_video['test_score'])}\")\n",
        "print(f\"Árvore do Sklearn...........: {np.mean(scores_sklearn['test_score'])}\")\n",
        "print(f\"Árvore com heurística nova..: {np.mean(scores_sklearn['test_score'])}\") # Repeti o Decision Tree do Sklern só para testes, ainda vou criar a árvore com a heurística"
      ],
      "execution_count": 144,
      "outputs": [
        {
          "output_type": "stream",
          "text": [
            "*** Resultados ***\n",
            "------------------\n",
            "\n",
            "Árvore do vídeo.............: 0.9533333333333334\n",
            "Árvore do Sklearn...........: 0.9533333333333334\n",
            "Árvore com heurística nova..: 0.9533333333333334\n"
          ],
          "name": "stdout"
        }
      ]
    },
    {
      "cell_type": "code",
      "metadata": {
        "id": "15gZx_2--sSz"
      },
      "source": [
        "# Carregando a base de dados para a segunda comparação\n",
        "\n",
        "# Informações sobre o dataset: https://www.kaggle.com/c/dat31-shuttle/data\n",
        "# Local onde baixei: https://www.csie.ntu.edu.tw/~cjlin/libsvmtools/datasets/multiclass.html\n",
        "# Obs.: Tive que tratar os dados, pois não vieram no formato csv. Também haviam valores 'NaN'\n",
        "dados1 = pd.read_csv('shuttle.csv')\n",
        "\n",
        "# Separando em features e target\n",
        "X1 = df.iloc[:, 1:].values # Retira a coluna 'target'. Fica com as features de 1 a 9\n",
        "y1 = df.iloc[:, 0].values # Pega somente a coluna 'target'\n",
        "\n",
        "dados2 = load_breast_cancer()\n",
        "X2 = data.data\n",
        "y2 = data.target\n",
        "\n",
        "dados3 = load_wine()\n",
        "X3 = data.data\n",
        "y3 = data.target\n",
        "\n",
        "# Padronizando os dados das bases\n",
        "scaler = StandardScaler()\n",
        "X1 = scaler.fit_transform(X1)\n",
        "X2 = scaler.fit_transform(X2)\n",
        "X3 = scaler.fit_transform(X3)"
      ],
      "execution_count": 145,
      "outputs": []
    },
    {
      "cell_type": "code",
      "metadata": {
        "id": "IKzyCfbxFqHH"
      },
      "source": [
        "# Para facilitar a execução dos algoritmos\n",
        "dados = [(X1, y1, 'Shuttle'), (X2, y2, 'Breast cancer'), (X3, y3, 'Wine')]\n",
        "\n",
        "classificadores = [(Arvore(), 'Árvore do vídeo'), \n",
        "                   (DecisionTreeClassifier(), 'Árvore do Sklearn'),\n",
        "                   (DecisionTreeClassifier(), 'Árvore com heurística nova')] # Repeti o Decision Tree do Sklern só para testes, ainda vou criar a árvore com a heurística"
      ],
      "execution_count": 146,
      "outputs": []
    },
    {
      "cell_type": "code",
      "metadata": {
        "colab": {
          "base_uri": "https://localhost:8080/"
        },
        "id": "MrhPEej11wLm",
        "outputId": "7732a20e-4848-4dda-bf27-3013a772e8fe"
      },
      "source": [
        "# Faz as comparações utilizando a validação cruzada\n",
        "\n",
        "print(\"       *** Resultados ***\")\n",
        "print(\"       ------------------\\n\")\n",
        "\n",
        "# Roda todos os datasets para cada um dos classificadores\n",
        "for d in dados:\n",
        "    print(f'- Dataset..........: {d[2]}')\n",
        "\n",
        "    for c in classificadores:\n",
        "        scores = cross_validate(c[0], d[0], d[1])\n",
        "        print(f\"  Classificador....: {c[1]}\")\n",
        "        print(f\"  Acurácia média...: {np.mean(scores['test_score'])}\\n\")\n",
        "\n",
        "    print('\\n')"
      ],
      "execution_count": 147,
      "outputs": [
        {
          "output_type": "stream",
          "text": [
            "       *** Resultados ***\n",
            "       ------------------\n",
            "\n",
            "- Dataset..........: Shuttle\n",
            "  Classificador....: Árvore do vídeo\n",
            "  Acurácia média...: 0.99924888414318\n",
            "\n",
            "  Classificador....: Árvore do Sklearn\n",
            "  Acurácia média...: 0.9995540236686716\n",
            "\n",
            "  Classificador....: Árvore com heurística nova\n",
            "  Acurácia média...: 0.9995305522451297\n",
            "\n",
            "\n",
            "\n",
            "- Dataset..........: Breast cancer\n",
            "  Classificador....: Árvore do vídeo\n",
            "  Acurácia média...: 0.9191429902189101\n",
            "\n",
            "  Classificador....: Árvore do Sklearn\n",
            "  Acurácia média...: 0.919111939139885\n",
            "\n",
            "  Classificador....: Árvore com heurística nova\n",
            "  Acurácia média...: 0.9156031672100605\n",
            "\n",
            "\n",
            "\n",
            "- Dataset..........: Wine\n",
            "  Classificador....: Árvore do vídeo\n",
            "  Acurácia média...: 0.9191429902189101\n",
            "\n",
            "  Classificador....: Árvore do Sklearn\n",
            "  Acurácia média...: 0.915618692749573\n",
            "\n",
            "  Classificador....: Árvore com heurística nova\n",
            "  Acurácia média...: 0.9191119391398852\n",
            "\n",
            "\n",
            "\n"
          ],
          "name": "stdout"
        }
      ]
    },
    {
      "cell_type": "markdown",
      "metadata": {
        "id": "RRRpXL-HPvJO"
      },
      "source": [
        "# **Interpretação dos resultados**\n",
        "\n",
        "Aqui será escrito o parágrafo com a interpretação dos resultados obtidos."
      ]
    }
  ]
}