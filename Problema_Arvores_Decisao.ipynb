{
  "nbformat": 4,
  "nbformat_minor": 0,
  "metadata": {
    "colab": {
      "name": "Problema_Arvores_Decisao.ipynb",
      "provenance": [],
      "collapsed_sections": [],
      "authorship_tag": "ABX9TyNv03PTtCD4Wt8hF8xYqZxY",
      "include_colab_link": true
    },
    "kernelspec": {
      "name": "python3",
      "display_name": "Python 3"
    }
  },
  "cells": [
    {
      "cell_type": "markdown",
      "metadata": {
        "id": "view-in-github",
        "colab_type": "text"
      },
      "source": [
        "<a href=\"https://colab.research.google.com/github/messias077/REP/blob/main/Problema_Arvores_Decisao.ipynb\" target=\"_parent\"><img src=\"https://colab.research.google.com/assets/colab-badge.svg\" alt=\"Open In Colab\"/></a>"
      ]
    },
    {
      "cell_type": "markdown",
      "metadata": {
        "id": "5-m3RhyhreE-"
      },
      "source": [
        "# **# Heurística para escolher o melhor valor de cada característica**"
      ]
    },
    {
      "cell_type": "code",
      "metadata": {
        "id": "DEKFWriEuMAn"
      },
      "source": [
        "# Importes necessários para todos os códigos\n",
        "import numpy as np\n",
        "import matplotlib.pyplot as plt\n",
        "import pandas as pd\n",
        "from collections import  Counter\n",
        "from sklearn.datasets import load_iris, load_wine, load_breast_cancer\n",
        "from sklearn.base import BaseEstimator, ClassifierMixin\n",
        "from sklearn.tree import DecisionTreeClassifier\n",
        "from sklearn.model_selection import cross_validate\n",
        "from sklearn.preprocessing import StandardScaler"
      ],
      "execution_count": 365,
      "outputs": []
    },
    {
      "cell_type": "code",
      "metadata": {
        "id": "J9hOM-gasTbd"
      },
      "source": [
        "# Carregando a base de dados para a primeira comparação\n",
        "\n",
        "iris = load_iris()\n",
        "X, y = iris.data[:,2:], iris.target"
      ],
      "execution_count": 366,
      "outputs": []
    },
    {
      "cell_type": "code",
      "metadata": {
        "id": "_eflRs7xqQ7S"
      },
      "source": [
        "# Implementação da árvore de decisão feita no vídeo\n",
        "\n",
        "def impureza(y):\n",
        "    labels = list(set(y))\n",
        "    labels.sort()\n",
        "    probabilidades = np.zeros((len(labels),))\n",
        "    for i,k in enumerate(labels):\n",
        "        probabilidades[i] = sum(y==k)/len(y)\n",
        "    result = 1 - sum(probabilidades**2)\n",
        "    return result\n",
        "\n",
        "\n",
        "def impurezaValor(x, y, valor):\n",
        "    maiores = x>valor\n",
        "    impurezaMaiores = impureza(y[maiores])\n",
        "    propMaiores = sum(maiores)/len(y)\n",
        "    impurezaMenores = impureza(y[~maiores])\n",
        "    propMenores = sum(~maiores)/len(y)\n",
        "    impurezaTotal = propMaiores*impurezaMaiores + propMenores*impurezaMenores\n",
        "    return impurezaTotal, impurezaMaiores, impurezaMenores\n",
        "\n",
        "\n",
        "def melhorValor(x, y):\n",
        "    menorImpureza = float('inf')\n",
        "    xmax = np.max(x)\n",
        "    xmin = np.min(x)\n",
        "    while True:\n",
        "        valor = (xmin+xmax)/2\n",
        "        impTotal, impMaiores, impMenores = impurezaValor(x, y, valor)\n",
        "        if impTotal < menorImpureza:\n",
        "            menorImpureza = impTotal\n",
        "            result = valor\n",
        "            if impMaiores == 0 or impMenores == 0:\n",
        "                break\n",
        "            if impMaiores < impMenores:\n",
        "                xmin = valor\n",
        "            else:\n",
        "                xmax = valor\n",
        "        else:\n",
        "            break\n",
        "    return result, menorImpureza\n",
        "\n",
        "\n",
        "def melhorCaracteristica(X, y):\n",
        "    impurezas = []\n",
        "    valores = []\n",
        "    for caracteristica in range(X.shape[1]):\n",
        "        valor, imp = melhorValor(X[:,caracteristica], y)\n",
        "        impurezas.append(imp)\n",
        "        valores.append(valor)\n",
        "    impurezas = np.array(impurezas)\n",
        "    caracteristica = np.argmin(impurezas)\n",
        "    return caracteristica, valores[caracteristica], impurezas[caracteristica]\n",
        "\n",
        "\n",
        "def maisFrequente(y):\n",
        "    return Counter(y.flat).most_common(1)[0][0]\n",
        "\n",
        "\n",
        "class Arvore(BaseEstimator, ClassifierMixin):\n",
        "    def fit(self, X, y):\n",
        "        self.caracteristica, self.valor, self.imp = melhorCaracteristica(X, y)\n",
        "        maiores = X[:,self.caracteristica] > self.valor\n",
        "        if sum(maiores)>0 and sum(~maiores)>0:\n",
        "            self.maiores = Arvore()\n",
        "            self.maiores.fit(X[maiores,:], y[maiores])\n",
        "            self.menores = Arvore()\n",
        "            self.menores.fit(X[~maiores,:], y[~maiores])\n",
        "        else:\n",
        "            self.resposta = maisFrequente(y)\n",
        "    def predict(self, X):\n",
        "        y = np.empty((X.shape[0]))\n",
        "        if hasattr(self, 'resposta'):\n",
        "            y[:] = self.resposta\n",
        "        else:\n",
        "            maiores = X[:, self.caracteristica] > self.valor\n",
        "            y[maiores] = self.maiores.predict(X[maiores,:])\n",
        "            y[~maiores] = self.menores.predict(X[~maiores,:])\n",
        "        return y"
      ],
      "execution_count": 367,
      "outputs": []
    },
    {
      "cell_type": "code",
      "metadata": {
        "id": "g8m5rCnT9OH_"
      },
      "source": [
        "# Árvore com heurística nova\n",
        "\n",
        "def hn_melhorValor(x):\n",
        "    media = np.mean(x)\n",
        "    desvio_padrao = np.std(x)\n",
        "    vpm = np.abs(x-media) <= desvio_padrao  # Valores perto da média\n",
        "    return media, desvio_padrao, sum(vpm)\n",
        "\n",
        "# Considerei como melhor característica a que tem mais valores perto da média\n",
        "def hn_melhorCaracteristica(X):\n",
        "    caracs = []  # Características\n",
        "    lista_qtd_vpm = []  # Lista de quantidade de valores perto da média \n",
        "    for carac in range(X.shape[1]):\n",
        "        media, desvio_padrao, qtd_vpm = hn_melhorValor(X[:,carac])\n",
        "        caracs.append([carac, media, desvio_padrao])\n",
        "        lista_qtd_vpm.append(qtd_vpm)\n",
        "    ind_carac = np.argmax(lista_qtd_vpm)  # Índice da melhor característica\n",
        "\n",
        "    # Retorna: A melhor característica, a média e o desvio padrão dela\n",
        "    return caracs[ind_carac][0], caracs[ind_carac][1], caracs[ind_carac][2]\n",
        "\n",
        "\n",
        "class ArvoreNova(BaseEstimator, ClassifierMixin):\n",
        "    def fit(self, X, y):\n",
        "        self.carac, self.media, self.desvio_padrao = hn_melhorCaracteristica(X)\n",
        "        vpm = np.abs(X[:,self.carac]-self.media) <= self.desvio_padrao\n",
        "        if sum(vpm)>0 and sum(~vpm)>0:\n",
        "            self.vpm = Arvore()  # árvore de valores perto da média \n",
        "            self.vpm.fit(X[vpm,:], y[vpm])\n",
        "            self.vlm = Arvore()  # árvore de valores longe da média\n",
        "            self.vlm.fit(X[~vpm,:], y[~vpm])\n",
        "        else:\n",
        "            self.resposta = maisFrequente(y)\n",
        "    def predict(self, X):\n",
        "        y = np.empty((X.shape[0]))\n",
        "        if hasattr(self, 'resposta'):\n",
        "            y[:] = self.resposta\n",
        "        else:\n",
        "            vpm = np.abs(X[:,self.carac]-self.media) <= self.desvio_padrao\n",
        "            y[vpm] = self.vpm.predict(X[vpm,:])\n",
        "            y[~vpm] = self.vlm.predict(X[~vpm,:])\n",
        "        return y\n"
      ],
      "execution_count": 368,
      "outputs": []
    },
    {
      "cell_type": "code",
      "metadata": {
        "colab": {
          "base_uri": "https://localhost:8080/",
          "height": 857
        },
        "id": "aly76ofo60hA",
        "outputId": "37913e11-8ecd-4688-c707-3541e888c733"
      },
      "source": [
        "# Função para plotar as regiões de decisão\n",
        "\n",
        "def plotDecisao(modelo, X, y, titulo):\n",
        "    modelo.fit(X, y)\n",
        "    x0s = np.linspace(np.min(X[:,0])-0.2, np.max(X[:,0])+0.2, 100)\n",
        "    x1s = np.linspace(np.min(X[:,1])-0.2, np.max(X[:,1])+0.2, 100)\n",
        "    x0, x1 = np.meshgrid(x0s, x1s)\n",
        "    Xdec = np.c_[x0.ravel(), x1.ravel()]\n",
        "    ypred = modelo.predict(Xdec)\n",
        "    plt.contourf(x0, x1, ypred.reshape(x0.shape), alpha=0.25)\n",
        "    for k in set(y):\n",
        "        plt.plot(X[:,0][y==k], X[:,1][y==k], 'o', label=f\"{iris.target_names[k]} [{k}]\")\n",
        "    plt.xlabel(f\"X[0]: {iris.feature_names[0]}\")\n",
        "    plt.ylabel(f\"X[1]: {iris.feature_names[1]}\")\n",
        "    plt.title(titulo)\n",
        "    plt.show()\n",
        "\n",
        "# Comparação das regiões de decisão\n",
        "plotDecisao(Arvore(), X, y, \"Regiões de decisão: Árvore do Vídeo\")\n",
        "plotDecisao(DecisionTreeClassifier(), X, y, \"Regiões de decisão: Árvore do Sklearn\")\n",
        "plotDecisao(ArvoreNova(), X, y, \"Regiões de decisão: Árvore com heurística nova\")"
      ],
      "execution_count": 369,
      "outputs": [
        {
          "output_type": "display_data",
          "data": {
            "image/png": "[encoded data removed]",
            "text/plain": [
              "<Figure size 432x288 with 1 Axes>"
            ]
          },
          "metadata": {
            "tags": [],
            "needs_background": "light"
          }
        },
        {
          "output_type": "display_data",
          "data": {
            "image/png": "[encoded data removed]",
            "text/plain": [
              "<Figure size 432x288 with 1 Axes>"
            ]
          },
          "metadata": {
            "tags": [],
            "needs_background": "light"
          }
        },
        {
          "output_type": "display_data",
          "data": {
            "image/png": "[encoded data removed]",
            "text/plain": [
              "<Figure size 432x288 with 1 Axes>"
            ]
          },
          "metadata": {
            "tags": [],
            "needs_background": "light"
          }
        }
      ]
    },
    {
      "cell_type": "code",
      "metadata": {
        "colab": {
          "base_uri": "https://localhost:8080/"
        },
        "id": "J4Xkf6PSzfBK",
        "outputId": "6e125f19-1e27-4d87-ac6c-6671c8a353ff"
      },
      "source": [
        "# Comparação utilizando validação cruzada\n",
        "\n",
        "# Scores das árvores\n",
        "scores_video = cross_validate(Arvore(), X, y)\n",
        "scores_sklearn = cross_validate(DecisionTreeClassifier(), X, y)\n",
        "scores_arvore_nova = cross_validate(ArvoreNova(), X, y)\n",
        "\n",
        "print(\"     *** Resultados (Dataset Iris) ***\")\n",
        "print(\"     ---------------------------------\\n\")\n",
        "print(f\"Árvore do vídeo.............: {np.mean(scores_video['test_score'])}\")\n",
        "print(f\"Árvore do Sklearn...........: {np.mean(scores_sklearn['test_score'])}\")\n",
        "print(f\"Árvore com heurística nova..: {np.mean(scores_arvore_nova['test_score'])}\")"
      ],
      "execution_count": 370,
      "outputs": [
        {
          "output_type": "stream",
          "text": [
            "     *** Resultados (Dataset Iris) ***\n",
            "     ---------------------------------\n",
            "\n",
            "Árvore do vídeo.............: 0.9533333333333334\n",
            "Árvore do Sklearn...........: 0.9533333333333334\n",
            "Árvore com heurística nova..: 0.96\n"
          ],
          "name": "stdout"
        }
      ]
    },
    {
      "cell_type": "code",
      "metadata": {
        "id": "15gZx_2--sSz"
      },
      "source": [
        "# Carregando a base de dados para a segunda comparação\n",
        "\n",
        "# Informações sobre o dataset: https://www.kaggle.com/c/dat31-shuttle/data\n",
        "# Local onde baixei: https://www.csie.ntu.edu.tw/~cjlin/libsvmtools/datasets/multiclass.html\n",
        "# Obs.: Tive que tratar os dados, pois não vieram no formato csv. Também haviam valores 'NaN'\n",
        "dados1 = pd.read_csv('shuttle.csv')\n",
        "\n",
        "# Separando em features e target\n",
        "X1 = dados1.iloc[:, 1:].values # Retira a coluna 'target'. Fica com as features de 1 a 9\n",
        "y1 = dados1.iloc[:, 0].values # Pega somente a coluna 'target'\n",
        "\n",
        "dados2 = load_breast_cancer()\n",
        "X2 = dados2.data\n",
        "y2 = dados2.target\n",
        "\n",
        "dados3 = load_wine()\n",
        "X3 = dados3.data\n",
        "y3 = dados3.target\n",
        "\n",
        "# Padronizando os dados das bases\n",
        "scaler = StandardScaler()\n",
        "X1 = scaler.fit_transform(X1)\n",
        "X2 = scaler.fit_transform(X2)\n",
        "X3 = scaler.fit_transform(X3)"
      ],
      "execution_count": 371,
      "outputs": []
    },
    {
      "cell_type": "code",
      "metadata": {
        "id": "IKzyCfbxFqHH"
      },
      "source": [
        "# Para facilitar a execução dos algoritmos\n",
        "dados = [(X1, y1, 'Shuttle'), (X2, y2, 'Breast cancer'), (X3, y3, 'Wine')]\n",
        "\n",
        "classificadores = [(Arvore(), 'Árvore do vídeo'), \n",
        "                   (DecisionTreeClassifier(), 'Árvore do Sklearn'),\n",
        "                   (ArvoreNova(), 'Árvore com heurística nova')]"
      ],
      "execution_count": 372,
      "outputs": []
    },
    {
      "cell_type": "code",
      "metadata": {
        "id": "MrhPEej11wLm",
        "colab": {
          "base_uri": "https://localhost:8080/"
        },
        "outputId": "9ff60c7f-6a94-4f7e-f9f3-6e811fdf8710"
      },
      "source": [
        "# Faz as comparações utilizando a validação cruzada\n",
        "\n",
        "print(\"             *** Resultados ***\")\n",
        "print(\"             ------------------\\n\")\n",
        "\n",
        "# Roda todos os datasets para cada um dos classificadores\n",
        "for d in dados:\n",
        "    print(f'# Dataset..........: {d[2]} -> shape: {d[0].shape}; classes: {set(d[1])}]\\n')\n",
        "\n",
        "    for c in classificadores:\n",
        "        scores = cross_validate(c[0], d[0], d[1])\n",
        "        print(f\"  Classificador....: {c[1]}\")\n",
        "        print(f\"  Acurácia média...: {np.mean(scores['test_score'])}\")\n",
        "        print( \"  Fit Time.........: %.5f seg.\" %(np.mean(scores['fit_time'])))\n",
        "        print( \"  Score Time.......: %.5f seg.\" %(np.mean(scores['score_time'])))\n",
        "        print(\"\\n\")\n",
        "\n",
        "    print('\\n')"
      ],
      "execution_count": 373,
      "outputs": [
        {
          "output_type": "stream",
          "text": [
            "             *** Resultados ***\n",
            "             ------------------\n",
            "\n",
            "# Dataset..........: Shuttle -> shape: (42603, 9); classes: {1, 2, 3, 4, 5, 6, 7}]\n",
            "\n",
            "  Classificador....: Árvore do vídeo\n",
            "  Acurácia média...: 0.99924888414318\n",
            "  Fit Time.........: 89.40508 seg.\n",
            "  Score Time.......: 0.00995 seg.\n",
            "\n",
            "\n",
            "  Classificador....: Árvore do Sklearn\n",
            "  Acurácia média...: 0.9995774895824896\n",
            "  Fit Time.........: 0.08827 seg.\n",
            "  Score Time.......: 0.00138 seg.\n",
            "\n",
            "\n",
            "  Classificador....: Árvore com heurística nova\n",
            "  Acurácia média...: 0.9993662495254749\n",
            "  Fit Time.........: 100.61708 seg.\n",
            "  Score Time.......: 0.01158 seg.\n",
            "\n",
            "\n",
            "\n",
            "\n",
            "# Dataset..........: Breast cancer -> shape: (569, 30); classes: {0, 1}]\n",
            "\n",
            "  Classificador....: Árvore do vídeo\n",
            "  Acurácia média...: 0.9191429902189101\n",
            "  Fit Time.........: 3.58582 seg.\n",
            "  Score Time.......: 0.00729 seg.\n",
            "\n",
            "\n",
            "  Classificador....: Árvore do Sklearn\n",
            "  Acurácia média...: 0.9191119391398852\n",
            "  Fit Time.........: 0.00750 seg.\n",
            "  Score Time.......: 0.00044 seg.\n",
            "\n",
            "\n",
            "  Classificador....: Árvore com heurística nova\n",
            "  Acurácia média...: 0.9173730787144854\n",
            "  Fit Time.........: 3.49235 seg.\n",
            "  Score Time.......: 0.00696 seg.\n",
            "\n",
            "\n",
            "\n",
            "\n",
            "# Dataset..........: Wine -> shape: (178, 13); classes: {0, 1, 2}]\n",
            "\n",
            "  Classificador....: Árvore do vídeo\n",
            "  Acurácia média...: 0.8887301587301588\n",
            "  Fit Time.........: 0.44308 seg.\n",
            "  Score Time.......: 0.00236 seg.\n",
            "\n",
            "\n",
            "  Classificador....: Árvore do Sklearn\n",
            "  Acurácia média...: 0.882063492063492\n",
            "  Fit Time.........: 0.00118 seg.\n",
            "  Score Time.......: 0.00028 seg.\n",
            "\n",
            "\n",
            "  Classificador....: Árvore com heurística nova\n",
            "  Acurácia média...: 0.8993650793650794\n",
            "  Fit Time.........: 0.42328 seg.\n",
            "  Score Time.......: 0.00254 seg.\n",
            "\n",
            "\n",
            "\n",
            "\n"
          ],
          "name": "stdout"
        }
      ]
    },
    {
      "cell_type": "markdown",
      "metadata": {
        "id": "RRRpXL-HPvJO"
      },
      "source": [
        "# **Interpretação dos resultados**\n",
        "\n",
        "Para a criação da heurística eu considerei como melhor característica a que tem mais valores perto da média. Para fazer este cálculo utilizei o trecho de código abaixo:\n",
        "\n",
        "`vpm = np.abs(x-media) <= desvio_padrao  # Valores perto da média`<br><br>\n",
        "\n",
        "\n",
        "Quando comparada com a árvore de decisão implementada nos vídeos e a do Sklearn, a árvore nova com a heurística criada teve acurácia resultante da validação cruzada similar às das outras duas. Também gerou gráficos de regiões de decisão similar aos gráficos daquelas árvores.<br><br>\n",
        "\n",
        "\n",
        "\n",
        "Com relação ao tempo de resposta, tanto a árvore do vídeo quanto a nova árvore, tiveram tempo bem superior à da Sklearn tanto para treinar quanto para predizer. Acredito que a natureza \"*brute force*\" das heurísticas contribuíram para isso. Além disso, a quantidade de *features* também influenciou no resultado, por exemplo, o dataset \"*Breast cancer*\" que possui 30 *features* teve tempos de *fit* e *score* bem superiores à árvore do Sklearn. Já para o dataset \"*Shuttle*\", apesar de possuir somente 9 *features*, demorou muito por conta da grande quantidade de exemplos, são 42603 linhas."
      ]
    }
  ]
}